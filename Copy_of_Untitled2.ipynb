{
  "nbformat": 4,
  "nbformat_minor": 0,
  "metadata": {
    "colab": {
      "provenance": [],
      "authorship_tag": "ABX9TyPjVDXCuH3uftGJ3WirmvX3",
      "include_colab_link": true
    },
    "kernelspec": {
      "name": "python3",
      "display_name": "Python 3"
    },
    "language_info": {
      "name": "python"
    }
  },
  "cells": [
    {
      "cell_type": "markdown",
      "metadata": {
        "id": "view-in-github",
        "colab_type": "text"
      },
      "source": [
        "<a href=\"https://colab.research.google.com/github/renewable37/dsa-python-insertion-sort/blob/main/Copy_of_Untitled2.ipynb\" target=\"_parent\"><img src=\"https://colab.research.google.com/assets/colab-badge.svg\" alt=\"Open In Colab\"/></a>"
      ]
    },
    {
      "cell_type": "code",
      "execution_count": null,
      "metadata": {
        "id": "c6qvQcq5P2nC"
      },
      "outputs": [],
      "source": [
        "edges=[ (0,1),(1,2),(1,3),(1,4),(3,4),(4,0)]\n",
        "n_vertices=5\n",
        "\n",
        "class Graph:\n",
        "    def __init__(self,n_vertices,edges):\n",
        "        self.data=[ [] for _ in range(n_vertices)]\n",
        "        for v1 , v2 in edges:\n",
        "            self.data[v1].append[v2]\n",
        "            self.data[v2].append[v1]\n"
      ]
    },
    {
      "cell_type": "code",
      "source": [
        "days=[ \"sunday\",\"monday\",\"tuesday\",\"wednesday\",\"thursday\",\"friday\",\"saturday\" ]\n",
        "\n",
        "for i in range(len(days)):\n",
        "  print('the value at position {} is {}'.format(i,days[i]))\n",
        "\n",
        "\n"
      ],
      "metadata": {
        "id": "xZT9Iqp0UmN-"
      },
      "execution_count": null,
      "outputs": []
    },
    {
      "cell_type": "code",
      "source": [
        "days=[ \"sunday\",\"monday\",\"tuesday\",\"wednesday\",\"thursday\",\"friday\",\"saturday\" ]\n",
        "for i,val in enumerate(days):\n",
        "  print('the value at position {} is {}'.format(i,val))"
      ],
      "metadata": {
        "id": "jzloMaYNWYAL"
      },
      "execution_count": null,
      "outputs": []
    },
    {
      "cell_type": "code",
      "source": [],
      "metadata": {
        "id": "BP4z1NOBcKrP"
      },
      "execution_count": null,
      "outputs": []
    },
    {
      "cell_type": "code",
      "source": [
        "week=[ \"sunday\",\"monday\",\"tuesday\",\"wednesday\",\"thursday\",\"friday\",\"saturday\" ]\n",
        "\n",
        "for day in week:\n",
        "  print('today is {}'.format(day))\n",
        "  if(day==\"wednesday\"):\n",
        "    print(\"i dont work beyond wednesday\")\n",
        "    break"
      ],
      "metadata": {
        "id": "CxczvvpBXwYH"
      },
      "execution_count": null,
      "outputs": []
    },
    {
      "cell_type": "code",
      "source": [
        "week=[ \"sunday\",\"monday\",\"tuesday\",\"wednesday\",\"thursday\",\"friday\",\"saturday\" ]\n",
        "\n",
        "for day in week:\n",
        "  pass\n",
        "print(\"________________\")\n",
        "\n",
        "for day in week:\n",
        "\n",
        "  if(day==\"wednesday\"):\n",
        "    print(\"i will not work on wednesday\")\n",
        "    continue\n",
        "  print(\"today is {}\".format(day))\n",
        "\n"
      ],
      "metadata": {
        "id": "WiOkOWKgcMr8"
      },
      "execution_count": null,
      "outputs": []
    },
    {
      "cell_type": "code",
      "source": [
        "days=[\"sunday\",\"monday\",\"tuesday\",\"wednesday\",\"thursday\",\"friday\",\"saturday\"]\n",
        "subs=[\"physics\",\"chemistry\",\"biology\"]\n",
        "\n",
        "for day in days:\n",
        "  for sub in  subs:\n",
        "    print(day,sub)\n",
        "  print(\"_________\")"
      ],
      "metadata": {
        "colab": {
          "base_uri": "https://localhost:8080/"
        },
        "id": "zVy-tpNqeIPT",
        "outputId": "e78b56cb-e913-4e13-d18a-415ff2235180"
      },
      "execution_count": 11,
      "outputs": [
        {
          "output_type": "stream",
          "name": "stdout",
          "text": [
            "sunday physics\n",
            "sunday chemistry\n",
            "sunday biology\n",
            "_________\n",
            "monday physics\n",
            "monday chemistry\n",
            "monday biology\n",
            "_________\n",
            "tuesday physics\n",
            "tuesday chemistry\n",
            "tuesday biology\n",
            "_________\n",
            "wednesday physics\n",
            "wednesday chemistry\n",
            "wednesday biology\n",
            "_________\n",
            "thursday physics\n",
            "thursday chemistry\n",
            "thursday biology\n",
            "_________\n",
            "friday physics\n",
            "friday chemistry\n",
            "friday biology\n",
            "_________\n",
            "saturday physics\n",
            "saturday chemistry\n",
            "saturday biology\n",
            "_________\n"
          ]
        }
      ]
    }
  ]
}
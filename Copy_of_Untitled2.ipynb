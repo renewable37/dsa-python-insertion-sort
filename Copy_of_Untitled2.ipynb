{
  "nbformat": 4,
  "nbformat_minor": 0,
  "metadata": {
    "colab": {
      "provenance": [],
      "authorship_tag": "ABX9TyNXOrPHKKxjBJ+u3nmdB8Xc",
      "include_colab_link": true
    },
    "kernelspec": {
      "name": "python3",
      "display_name": "Python 3"
    },
    "language_info": {
      "name": "python"
    }
  },
  "cells": [
    {
      "cell_type": "markdown",
      "metadata": {
        "id": "view-in-github",
        "colab_type": "text"
      },
      "source": [
        "<a href=\"https://colab.research.google.com/github/renewable37/dsa-python-insertion-sort/blob/main/Copy_of_Untitled2.ipynb\" target=\"_parent\"><img src=\"https://colab.research.google.com/assets/colab-badge.svg\" alt=\"Open In Colab\"/></a>"
      ]
    },
    {
      "cell_type": "code",
      "execution_count": null,
      "metadata": {
        "id": "c6qvQcq5P2nC"
      },
      "outputs": [],
      "source": [
        "edges=[ (0,1),(1,2),(1,3),(1,4),(3,4),(4,0)]\n",
        "n_vertices=5\n",
        "\n",
        "class Graph:\n",
        "    def __init__(self,n_vertices,edges):\n",
        "        self.data=[ [] for _ in range(n_vertices)]\n",
        "        for v1 , v2 in edges:\n",
        "            self.data[v1].append[v2]\n",
        "            self.data[v2].append[v1]\n"
      ]
    },
    {
      "cell_type": "code",
      "source": [
        "days=[ \"sunday\",\"monday\",\"tuesday\",\"wednesday\",\"thursday\",\"friday\",\"saturday\" ]\n",
        "\n",
        "for i in range(len(days)):\n",
        "  print('the value at position {} is {}'.format(i,days[i]))\n",
        "\n",
        "\n"
      ],
      "metadata": {
        "id": "xZT9Iqp0UmN-"
      },
      "execution_count": null,
      "outputs": []
    },
    {
      "cell_type": "code",
      "source": [
        "days=[ \"sunday\",\"monday\",\"tuesday\",\"wednesday\",\"thursday\",\"friday\",\"saturday\" ]\n",
        "for i,val in enumerate(days):\n",
        "  print('the value at position {} is {}'.format(i,val))"
      ],
      "metadata": {
        "id": "jzloMaYNWYAL"
      },
      "execution_count": null,
      "outputs": []
    },
    {
      "cell_type": "code",
      "source": [
        "week=[ \"sunday\",\"monday\",\"tuesday\",\"wednesday\",\"thursday\",\"friday\",\"saturday\" ]\n",
        "\n",
        "for day in week:\n",
        "  print('today is {}'.format(day))\n",
        "  if(day==\"wednesday\"):\n",
        "    print(\"i dont work beyond wednesday\")\n",
        "    break"
      ],
      "metadata": {
        "colab": {
          "base_uri": "https://localhost:8080/"
        },
        "id": "CxczvvpBXwYH",
        "outputId": "61eaa096-c2a0-4a4a-9df8-17bdcf525031"
      },
      "execution_count": null,
      "outputs": [
        {
          "output_type": "stream",
          "name": "stdout",
          "text": [
            "today is sunday\n",
            "today is monday\n",
            "today is tuesday\n",
            "today is wednesday\n",
            "i dont work beyond wednesday\n"
          ]
        }
      ]
    }
  ]
}
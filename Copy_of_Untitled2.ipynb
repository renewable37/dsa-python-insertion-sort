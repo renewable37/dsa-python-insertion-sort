{
  "nbformat": 4,
  "nbformat_minor": 0,
  "metadata": {
    "colab": {
      "provenance": [],
      "authorship_tag": "ABX9TyOiBxZrela6D1cGv3C3R0sk",
      "include_colab_link": true
    },
    "kernelspec": {
      "name": "python3",
      "display_name": "Python 3"
    },
    "language_info": {
      "name": "python"
    }
  },
  "cells": [
    {
      "cell_type": "markdown",
      "metadata": {
        "id": "view-in-github",
        "colab_type": "text"
      },
      "source": [
        "<a href=\"https://colab.research.google.com/github/renewable37/dsa-python-insertion-sort/blob/main/Copy_of_Untitled2.ipynb\" target=\"_parent\"><img src=\"https://colab.research.google.com/assets/colab-badge.svg\" alt=\"Open In Colab\"/></a>"
      ]
    },
    {
      "cell_type": "code",
      "execution_count": null,
      "metadata": {
        "id": "c6qvQcq5P2nC"
      },
      "outputs": [],
      "source": [
        "edges=[ (0,1),(1,2),(1,3),(1,4),(3,4),(4,0)]\n",
        "n_vertices=5\n",
        "\n",
        "class Graph:\n",
        "    def __init__(self,n_vertices,edges):\n",
        "        self.data=[ [] for _ in range(n_vertices)]\n",
        "        for v1 , v2 in edges:\n",
        "            self.data[v1].append[v2]\n",
        "            self.data[v2].append[v1]\n"
      ]
    },
    {
      "cell_type": "code",
      "source": [
        "days=[ \"sunday\",\"monday\",\"tuesday\",\"wednesday\",\"thursday\",\"friday\",\"saturday\" ]\n",
        "\n",
        "for i in range(len(days)):\n",
        "  print('the value at position {} is {}'.format(i,days[i]))\n",
        "\n",
        "\n"
      ],
      "metadata": {
        "id": "xZT9Iqp0UmN-"
      },
      "execution_count": null,
      "outputs": []
    },
    {
      "cell_type": "code",
      "source": [
        "days=[ \"sunday\",\"monday\",\"tuesday\",\"wednesday\",\"thursday\",\"friday\",\"saturday\" ]\n",
        "for i,val in enumerate(days):\n",
        "  print('the value at position {} is {}'.format(i,val))"
      ],
      "metadata": {
        "id": "jzloMaYNWYAL"
      },
      "execution_count": null,
      "outputs": []
    },
    {
      "cell_type": "code",
      "source": [],
      "metadata": {
        "id": "BP4z1NOBcKrP"
      },
      "execution_count": null,
      "outputs": []
    },
    {
      "cell_type": "code",
      "source": [
        "week=[ \"sunday\",\"monday\",\"tuesday\",\"wednesday\",\"thursday\",\"friday\",\"saturday\" ]\n",
        "\n",
        "for day in week:\n",
        "  print('today is {}'.format(day))\n",
        "  if(day==\"wednesday\"):\n",
        "    print(\"i dont work beyond wednesday\")\n",
        "    break"
      ],
      "metadata": {
        "id": "CxczvvpBXwYH"
      },
      "execution_count": null,
      "outputs": []
    },
    {
      "cell_type": "code",
      "source": [
        "week=[ \"sunday\",\"monday\",\"tuesday\",\"wednesday\",\"thursday\",\"friday\",\"saturday\" ]\n",
        "\n",
        "for day in week:\n",
        "  pass\n",
        "print(\"________________\")\n",
        "\n",
        "for day in week:\n",
        "\n",
        "  if(day==\"wednesday\"):\n",
        "    print(\"i will not work on wednesday\")\n",
        "    continue\n",
        "  print(\"today is {}\".format(day))\n",
        "\n"
      ],
      "metadata": {
        "id": "WiOkOWKgcMr8"
      },
      "execution_count": null,
      "outputs": []
    },
    {
      "cell_type": "code",
      "source": [
        "days=[\"sunday\",\"monday\",\"tuesday\",\"wednesday\",\"thursday\",\"friday\",\"saturday\"]\n",
        "subs=[\"physics\",\"chemistry\",\"biology\"]\n",
        "\n",
        "for day in days:\n",
        "  for sub in  subs:\n",
        "    print(day,sub)\n",
        "  print(\"_________\")"
      ],
      "metadata": {
        "id": "zVy-tpNqeIPT"
      },
      "execution_count": null,
      "outputs": []
    },
    {
      "cell_type": "code",
      "source": [
        "def find_even(number_list):\n",
        "  result_list=[]\n",
        "  for i in number_list:\n",
        "    if i%2==0:\n",
        "      result_list.append(i)\n",
        "  return result_list\n",
        "even_list=find_even([99,36,55,88,544,555])\n",
        "even_list\n",
        "\n",
        "\n",
        ""
      ],
      "metadata": {
        "colab": {
          "base_uri": "https://localhost:8080/"
        },
        "id": "rMayWmdlgHmZ",
        "outputId": "8e310c8b-eefa-4d70-e5c6-bb36bba623df"
      },
      "execution_count": 15,
      "outputs": [
        {
          "output_type": "execute_result",
          "data": {
            "text/plain": [
              "[36, 88, 544]"
            ]
          },
          "metadata": {},
          "execution_count": 15
        }
      ]
    }
  ]
}